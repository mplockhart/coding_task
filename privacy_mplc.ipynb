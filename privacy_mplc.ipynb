{
 "cells": [
  {
   "cell_type": "markdown",
   "metadata": {},
   "source": [
    "# Michael Lockhart - Privacy Task Sheet"
   ]
  },
  {
   "cell_type": "markdown",
   "metadata": {},
   "source": [
    "Here I submit my code and notes for the privacy scientist role."
   ]
  },
  {
   "cell_type": "markdown",
   "metadata": {},
   "source": [
    "## Part 1"
   ]
  },
  {
   "cell_type": "code",
   "execution_count": 1,
   "metadata": {},
   "outputs": [],
   "source": [
    "# Imports of modules for all sections of task 1\n",
    "import pandas as pd\n",
    "import numpy as np\n",
    "from numpy import random # provided a better distribution than random randint and all possibilities were populated\n",
    "import matplotlib.pyplot as plt\n",
    "import seaborn as sns"
   ]
  },
  {
   "cell_type": "markdown",
   "metadata": {},
   "source": [
    "## A) \n",
    "Randomly generate a dataset (dataframe) with eight columns and 50,000 rows. Each column should be a categorical variable (of arbitrary name) with three levels (of arbitrary names) in approximately equal proportions"
   ]
  },
  {
   "cell_type": "code",
   "execution_count": 2,
   "metadata": {},
   "outputs": [],
   "source": [
    "# A function that simplifies the creation of a list of randomly assigned catagorical variables\n",
    "def catagorical_maker(column, catagoricals, number_of_rows): \n",
    "    '''\n",
    "    Returns a list of random catagoricals chosen from a \n",
    "    Inputs of a column name, list of names and total number required rows.\n",
    "    \n",
    "    catagorical_marker(column header string, catagorical value list, integer)\n",
    "    \n",
    "    '''\n",
    "    # length of catagoricals for range\n",
    "    number_of_catagoricals = (len(catagoricals)) \n",
    "    random_catagoricals_list = []\n",
    "    # iterate over the total number of rows to generate a list of catagoricals\n",
    "    for f in range(number_of_rows): \n",
    "        random_value = random.randint(0,number_of_catagoricals)\n",
    "        random_catagoricals_list.append(catagoricals[random_value])\n",
    "    return random_catagoricals_list"
   ]
  },
  {
   "cell_type": "code",
   "execution_count": 3,
   "metadata": {},
   "outputs": [],
   "source": [
    "# A function to view how evenly matched the columns are\n",
    "def column_counter(random_list_of_lists, rows):\n",
    "    '''\n",
    "    Return the frequency of each catagorical variable in a randomised list\n",
    "    \n",
    "    column_counter([[],[],[]])\n",
    "    '''\n",
    "    number_of_unique_catagories = len(set(random_list_of_lists[0]))\n",
    "    exact_distribution = int(rows / number_of_unique_catagories)\n",
    "    counts = []\n",
    "    for x, f in enumerate(random_list_of_lists):\n",
    "        counted = Counter(random_list_of_lists[x]).most_common()\n",
    "        counts.append(counted)\n",
    "        for position in range(len(counted)):\n",
    "            difference = abs(exact_distribution - counted[position][1])\n",
    "            percent = round(((difference/exact_distribution)*100),2)\n",
    "            print(f\"The randomly assigned value of {counted[position][0]} is {counted[position][1]}, {difference} ({percent}%) far away from the average.\")\n",
    "    return counts"
   ]
  },
  {
   "cell_type": "code",
   "execution_count": 73,
   "metadata": {},
   "outputs": [],
   "source": [
    "# A predefined dictionary of status that may be found in health data\n",
    "status_catagoricals = {\n",
    "                       'Status': ['Single', 'Married', 'Divorced'],\n",
    "                       'Locations': ['North', 'Midlands', 'South'],\n",
    "                       'Likes': ['I', 'Like', 'Cheese'],\n",
    "                       'Book': ['Lion', 'Witch', 'Wardrobe'],\n",
    "                       'CryoEM': ['Grid', 'Square', 'Holes'],\n",
    "                       'Christmas': ['Turkey', 'Goose', 'Duck'],\n",
    "                       'Toys': ['Barbie', 'Ken', 'Actionman'],\n",
    "                       'Z': ['X', 'Y', 'Z']\n",
    "                      }\n",
    "\n",
    "# Iterating through the dictionary to generate a list of lists that can be converted to a Pandas data frame\n",
    "random_lists = []\n",
    "column_name = []\n",
    "number_of_rows = 50000\n",
    "# enumberating to obtain the column name for a column name list\n",
    "for x, f in enumerate(status_catagoricals):\n",
    "    # calling the function to generate the list for each key\n",
    "    value = catagorical_maker(f, status_catagoricals[f], number_of_rows)\n",
    "    random_lists.append(value)\n",
    "    column_name.append(f)\n",
    "\n",
    "# Generating the data frame using the random list and column names corresponding to the list\n",
    "# The lists required transforming to a NumPy array in order to transpose to an 8 x 50000 data frame\n",
    "transposed_list = np.array(random_lists).T\n",
    "df = pd.DataFrame(transposed_list, columns = column_name)"
   ]
  },
  {
   "cell_type": "markdown",
   "metadata": {},
   "source": [
    "## B)\n",
    "Summarize the dataset so you can readily check whether you have achieved the goal set in a).\n",
    "\n",
    "### Comments\n",
    "While it appears that there have been appropriate random distributions of the categorical variables across each of the columns, some of the permutations available were not represented shown below with a count less than 3<sup>8</sup>."
   ]
  },
  {
   "cell_type": "code",
   "execution_count": 71,
   "metadata": {},
   "outputs": [
    {
     "data": {
      "text/html": [
       "<div>\n",
       "<style scoped>\n",
       "    .dataframe tbody tr th:only-of-type {\n",
       "        vertical-align: middle;\n",
       "    }\n",
       "\n",
       "    .dataframe tbody tr th {\n",
       "        vertical-align: top;\n",
       "    }\n",
       "\n",
       "    .dataframe thead th {\n",
       "        text-align: right;\n",
       "    }\n",
       "</style>\n",
       "<table border=\"1\" class=\"dataframe\">\n",
       "  <thead>\n",
       "    <tr style=\"text-align: right;\">\n",
       "      <th></th>\n",
       "      <th>Frequency</th>\n",
       "    </tr>\n",
       "  </thead>\n",
       "  <tbody>\n",
       "    <tr>\n",
       "      <th>count</th>\n",
       "      <td>6561.000000</td>\n",
       "    </tr>\n",
       "    <tr>\n",
       "      <th>mean</th>\n",
       "      <td>9.907026</td>\n",
       "    </tr>\n",
       "    <tr>\n",
       "      <th>std</th>\n",
       "      <td>3.173040</td>\n",
       "    </tr>\n",
       "    <tr>\n",
       "      <th>min</th>\n",
       "      <td>1.000000</td>\n",
       "    </tr>\n",
       "    <tr>\n",
       "      <th>25%</th>\n",
       "      <td>8.000000</td>\n",
       "    </tr>\n",
       "    <tr>\n",
       "      <th>50%</th>\n",
       "      <td>10.000000</td>\n",
       "    </tr>\n",
       "    <tr>\n",
       "      <th>75%</th>\n",
       "      <td>12.000000</td>\n",
       "    </tr>\n",
       "    <tr>\n",
       "      <th>max</th>\n",
       "      <td>26.000000</td>\n",
       "    </tr>\n",
       "  </tbody>\n",
       "</table>\n",
       "</div>"
      ],
      "text/plain": [
       "         Frequency\n",
       "count  6561.000000\n",
       "mean      9.907026\n",
       "std       3.173040\n",
       "min       1.000000\n",
       "25%       8.000000\n",
       "50%      10.000000\n",
       "75%      12.000000\n",
       "max      26.000000"
      ]
     },
     "execution_count": 71,
     "metadata": {},
     "output_type": "execute_result"
    }
   ],
   "source": [
    "# Here the frequency of each row is calculated\n",
    "# Calculates the frequency of all column possibilities\n",
    "temp1 = df.groupby(column_name).size()\n",
    "# Resents the index to make to a single level\n",
    "temp2 = temp1.reset_index() \n",
    "# Provides the column name 'Frequency'\n",
    "frequency_df = temp2.rename(columns={0:'Frequency'}) \n",
    "# Could also have been combined to \"frequency_df = df.groupby(column_name).size().reset_index().rename(columns={0:'count'})\"\n",
    "\n",
    "# Overall quick outputs of table\n",
    "frequency_df.describe()"
   ]
  },
  {
   "cell_type": "code",
   "execution_count": 72,
   "metadata": {},
   "outputs": [
    {
     "name": "stdout",
     "output_type": "stream",
     "text": [
      "The randomly assigned value of Divorced is 21828, 162 (0.75%) far away from the average.\n",
      "The randomly assigned value of Single is 21717, 51 (0.24%) far away from the average.\n",
      "The randomly assigned value of Married is 21455, 211 (0.97%) far away from the average.\n",
      "The randomly assigned value of North is 21726, 60 (0.28%) far away from the average.\n",
      "The randomly assigned value of Midlands is 21709, 43 (0.2%) far away from the average.\n",
      "The randomly assigned value of South is 21565, 101 (0.47%) far away from the average.\n",
      "The randomly assigned value of Cheese is 21739, 73 (0.34%) far away from the average.\n",
      "The randomly assigned value of Like is 21718, 52 (0.24%) far away from the average.\n",
      "The randomly assigned value of I is 21543, 123 (0.57%) far away from the average.\n",
      "The randomly assigned value of Lion is 21826, 160 (0.74%) far away from the average.\n",
      "The randomly assigned value of Wardrobe is 21603, 63 (0.29%) far away from the average.\n",
      "The randomly assigned value of Witch is 21571, 95 (0.44%) far away from the average.\n",
      "The randomly assigned value of Square is 21889, 223 (1.03%) far away from the average.\n",
      "The randomly assigned value of Grid is 21626, 40 (0.18%) far away from the average.\n",
      "The randomly assigned value of Holes is 21485, 181 (0.84%) far away from the average.\n",
      "The randomly assigned value of Goose is 22025, 359 (1.66%) far away from the average.\n",
      "The randomly assigned value of Turkey is 21556, 110 (0.51%) far away from the average.\n",
      "The randomly assigned value of Duck is 21419, 247 (1.14%) far away from the average.\n",
      "The randomly assigned value of Ken is 21707, 41 (0.19%) far away from the average.\n",
      "The randomly assigned value of Actionman is 21695, 29 (0.13%) far away from the average.\n",
      "The randomly assigned value of Barbie is 21598, 68 (0.31%) far away from the average.\n",
      "The randomly assigned value of Y is 21829, 163 (0.75%) far away from the average.\n",
      "The randomly assigned value of X is 21598, 68 (0.31%) far away from the average.\n",
      "The randomly assigned value of Z is 21573, 93 (0.43%) far away from the average.\n"
     ]
    }
   ],
   "source": [
    "#Checking each column for percentage representation\n",
    "from collections import Counter\n",
    "counted_column_catagoricals = column_counter(random_lists, number_of_rows)"
   ]
  },
  {
   "cell_type": "markdown",
   "metadata": {},
   "source": [
    "## c)\n",
    "How many unique rows (i.e., permutations of category levels) are possible?\n",
    "\n",
    "### Answer\n",
    "It is possible to produce 3<sup>8</sup> different combinations of catagorical variables = 6561."
   ]
  },
  {
   "cell_type": "code",
   "execution_count": 10,
   "metadata": {},
   "outputs": [
    {
     "name": "stdout",
     "output_type": "stream",
     "text": [
      "6561\n"
     ]
    }
   ],
   "source": [
    "total_possibilities = 3**8\n",
    "print(total_possibilities)"
   ]
  },
  {
   "cell_type": "markdown",
   "metadata": {},
   "source": [
    "## d)\n",
    "Produce a table and appropriate graph which show the frequencies (numbers of groups)\n",
    "by permutation group sizes up to group size of 12. That is, how many groups are unique\n",
    "combinations (group size = 1), how many groups are made up of a pair of matching\n",
    "combinations (group size = 2), how many groups are made up three the same, etc?"
   ]
  },
  {
   "cell_type": "code",
   "execution_count": 11,
   "metadata": {},
   "outputs": [
    {
     "data": {
      "text/html": [
       "<div>\n",
       "<style scoped>\n",
       "    .dataframe tbody tr th:only-of-type {\n",
       "        vertical-align: middle;\n",
       "    }\n",
       "\n",
       "    .dataframe tbody tr th {\n",
       "        vertical-align: top;\n",
       "    }\n",
       "\n",
       "    .dataframe thead th {\n",
       "        text-align: right;\n",
       "    }\n",
       "</style>\n",
       "<table border=\"1\" class=\"dataframe\">\n",
       "  <thead>\n",
       "    <tr style=\"text-align: right;\">\n",
       "      <th></th>\n",
       "      <th>Status</th>\n",
       "      <th>Piggies</th>\n",
       "      <th>Likes</th>\n",
       "      <th>Book</th>\n",
       "      <th>CryoEM</th>\n",
       "      <th>Christmas</th>\n",
       "      <th>Toys</th>\n",
       "      <th>Z</th>\n",
       "      <th>Frequency</th>\n",
       "    </tr>\n",
       "  </thead>\n",
       "  <tbody>\n",
       "    <tr>\n",
       "      <th>0</th>\n",
       "      <td>Divorced</td>\n",
       "      <td>Bad</td>\n",
       "      <td>Cheese</td>\n",
       "      <td>Lion</td>\n",
       "      <td>Grid</td>\n",
       "      <td>Duck</td>\n",
       "      <td>Actionman</td>\n",
       "      <td>X</td>\n",
       "      <td>6</td>\n",
       "    </tr>\n",
       "    <tr>\n",
       "      <th>1</th>\n",
       "      <td>Divorced</td>\n",
       "      <td>Bad</td>\n",
       "      <td>Cheese</td>\n",
       "      <td>Lion</td>\n",
       "      <td>Grid</td>\n",
       "      <td>Duck</td>\n",
       "      <td>Actionman</td>\n",
       "      <td>Y</td>\n",
       "      <td>6</td>\n",
       "    </tr>\n",
       "    <tr>\n",
       "      <th>2</th>\n",
       "      <td>Divorced</td>\n",
       "      <td>Bad</td>\n",
       "      <td>Cheese</td>\n",
       "      <td>Lion</td>\n",
       "      <td>Grid</td>\n",
       "      <td>Duck</td>\n",
       "      <td>Actionman</td>\n",
       "      <td>Z</td>\n",
       "      <td>7</td>\n",
       "    </tr>\n",
       "    <tr>\n",
       "      <th>3</th>\n",
       "      <td>Divorced</td>\n",
       "      <td>Bad</td>\n",
       "      <td>Cheese</td>\n",
       "      <td>Lion</td>\n",
       "      <td>Grid</td>\n",
       "      <td>Duck</td>\n",
       "      <td>Barbie</td>\n",
       "      <td>X</td>\n",
       "      <td>11</td>\n",
       "    </tr>\n",
       "    <tr>\n",
       "      <th>4</th>\n",
       "      <td>Divorced</td>\n",
       "      <td>Bad</td>\n",
       "      <td>Cheese</td>\n",
       "      <td>Lion</td>\n",
       "      <td>Grid</td>\n",
       "      <td>Duck</td>\n",
       "      <td>Barbie</td>\n",
       "      <td>Y</td>\n",
       "      <td>7</td>\n",
       "    </tr>\n",
       "    <tr>\n",
       "      <th>...</th>\n",
       "      <td>...</td>\n",
       "      <td>...</td>\n",
       "      <td>...</td>\n",
       "      <td>...</td>\n",
       "      <td>...</td>\n",
       "      <td>...</td>\n",
       "      <td>...</td>\n",
       "      <td>...</td>\n",
       "      <td>...</td>\n",
       "    </tr>\n",
       "    <tr>\n",
       "      <th>6552</th>\n",
       "      <td>Single</td>\n",
       "      <td>Wolf</td>\n",
       "      <td>Like</td>\n",
       "      <td>Witch</td>\n",
       "      <td>Square</td>\n",
       "      <td>Turkey</td>\n",
       "      <td>Barbie</td>\n",
       "      <td>Y</td>\n",
       "      <td>8</td>\n",
       "    </tr>\n",
       "    <tr>\n",
       "      <th>6553</th>\n",
       "      <td>Single</td>\n",
       "      <td>Wolf</td>\n",
       "      <td>Like</td>\n",
       "      <td>Witch</td>\n",
       "      <td>Square</td>\n",
       "      <td>Turkey</td>\n",
       "      <td>Barbie</td>\n",
       "      <td>Z</td>\n",
       "      <td>4</td>\n",
       "    </tr>\n",
       "    <tr>\n",
       "      <th>6554</th>\n",
       "      <td>Single</td>\n",
       "      <td>Wolf</td>\n",
       "      <td>Like</td>\n",
       "      <td>Witch</td>\n",
       "      <td>Square</td>\n",
       "      <td>Turkey</td>\n",
       "      <td>Ken</td>\n",
       "      <td>X</td>\n",
       "      <td>9</td>\n",
       "    </tr>\n",
       "    <tr>\n",
       "      <th>6555</th>\n",
       "      <td>Single</td>\n",
       "      <td>Wolf</td>\n",
       "      <td>Like</td>\n",
       "      <td>Witch</td>\n",
       "      <td>Square</td>\n",
       "      <td>Turkey</td>\n",
       "      <td>Ken</td>\n",
       "      <td>Y</td>\n",
       "      <td>9</td>\n",
       "    </tr>\n",
       "    <tr>\n",
       "      <th>6556</th>\n",
       "      <td>Single</td>\n",
       "      <td>Wolf</td>\n",
       "      <td>Like</td>\n",
       "      <td>Witch</td>\n",
       "      <td>Square</td>\n",
       "      <td>Turkey</td>\n",
       "      <td>Ken</td>\n",
       "      <td>Z</td>\n",
       "      <td>8</td>\n",
       "    </tr>\n",
       "  </tbody>\n",
       "</table>\n",
       "<p>6557 rows × 9 columns</p>\n",
       "</div>"
      ],
      "text/plain": [
       "        Status Piggies   Likes   Book  CryoEM Christmas       Toys  Z  \\\n",
       "0     Divorced     Bad  Cheese   Lion    Grid      Duck  Actionman  X   \n",
       "1     Divorced     Bad  Cheese   Lion    Grid      Duck  Actionman  Y   \n",
       "2     Divorced     Bad  Cheese   Lion    Grid      Duck  Actionman  Z   \n",
       "3     Divorced     Bad  Cheese   Lion    Grid      Duck     Barbie  X   \n",
       "4     Divorced     Bad  Cheese   Lion    Grid      Duck     Barbie  Y   \n",
       "...        ...     ...     ...    ...     ...       ...        ... ..   \n",
       "6552    Single    Wolf    Like  Witch  Square    Turkey     Barbie  Y   \n",
       "6553    Single    Wolf    Like  Witch  Square    Turkey     Barbie  Z   \n",
       "6554    Single    Wolf    Like  Witch  Square    Turkey        Ken  X   \n",
       "6555    Single    Wolf    Like  Witch  Square    Turkey        Ken  Y   \n",
       "6556    Single    Wolf    Like  Witch  Square    Turkey        Ken  Z   \n",
       "\n",
       "      Frequency  \n",
       "0             6  \n",
       "1             6  \n",
       "2             7  \n",
       "3            11  \n",
       "4             7  \n",
       "...         ...  \n",
       "6552          8  \n",
       "6553          4  \n",
       "6554          9  \n",
       "6555          9  \n",
       "6556          8  \n",
       "\n",
       "[6557 rows x 9 columns]"
      ]
     },
     "execution_count": 11,
     "metadata": {},
     "output_type": "execute_result"
    }
   ],
   "source": [
    "# Here the frequency of each row is calculated\n",
    "# Calculates the frequency of all column possibilities\n",
    "temp1 = df.groupby(column_name).size() \n",
    "# Resents the index to make to a single level\n",
    "temp2 = temp1.reset_index()\n",
    "# Provides the column name 'Frequency'\n",
    "frequency_df = temp2.rename(columns={0:'Frequency'}) \n",
    "# Could also have been combined to \"frequency_df = df.groupby(column_name).size().reset_index().rename(columns={0:'count'})\"\n",
    "frequency_df"
   ]
  },
  {
   "cell_type": "code",
   "execution_count": 78,
   "metadata": {},
   "outputs": [
    {
     "name": "stdout",
     "output_type": "stream",
     "text": [
      "    Group size  Number of groups\n",
      "0            1                 3\n",
      "1            2                15\n",
      "2            3                51\n",
      "3            4               122\n",
      "4            5               288\n",
      "5            6               419\n",
      "6            7               612\n",
      "7            8               779\n",
      "8            9               834\n",
      "9           10               757\n",
      "10          11               767\n",
      "11          12               582\n",
      "12          13               495\n",
      "13          14               308\n",
      "14          15               214\n",
      "15          16               142\n",
      "16          17                77\n",
      "17          18                49\n",
      "18          19                26\n",
      "19          20                11\n",
      "20          21                 4\n",
      "21          22                 3\n",
      "22          24                 1\n",
      "23          25                 1\n",
      "24          26                 1\n"
     ]
    },
    {
     "data": {
      "text/plain": [
       "834"
      ]
     },
     "execution_count": 78,
     "metadata": {},
     "output_type": "execute_result"
    },
    {
     "data": {
      "image/png": "[encoded data removed]",
      "text/plain": [
       "<Figure size 360x360 with 1 Axes>"
      ]
     },
     "metadata": {
      "needs_background": "light"
     },
     "output_type": "display_data"
    }
   ],
   "source": [
    "temp3 = frequency_df.groupby('Frequency').size()\n",
    "#temp3\n",
    "temp4 = temp3.reset_index()\n",
    "#temp4\n",
    "temp5 = temp4.rename(columns={0:'Number of groups', 'Frequency':'Group size'}) \n",
    "print(temp5)\n",
    "#frequency_plot = sns.histplot(data=temp5['Number of groups'], bins=21)\n",
    "frequency_plot = sns.relplot(x='Group size', y='Number of groups', kind=\"line\", data=temp5)\n",
    "#plt.axvline(12, 0,12, color='red')\n",
    "temp5['Number of groups'].max()"
   ]
  },
  {
   "cell_type": "markdown",
   "metadata": {},
   "source": [
    "## e)\n",
    "Comment upon the distribution of group sizes in d).\n",
    "\n",
    "### Answer\n",
    "The distribution of the group sizes in part d) broadly represents a normal distribution. If the assignment of the categorical values were close to random this would be the case. That said it seems that there are some groups that are not represented and some of the larger groups that have a low representation.\n",
    "\n",
    "Below, the histogram of all frequency values for each of the (up to) 6561 unique permutations is shown and, again broadly represents a normal distribution."
   ]
  },
  {
   "cell_type": "code",
   "execution_count": 79,
   "metadata": {},
   "outputs": [
    {
     "name": "stdout",
     "output_type": "stream",
     "text": [
      "6561\n"
     ]
    },
    {
     "data": {
      "text/plain": [
       "Text(0.5, 0, 'Combination Occurance')"
      ]
     },
     "execution_count": 79,
     "metadata": {},
     "output_type": "execute_result"
    },
    {
     "data": {
      "image/png": "[encoded data removed]",
      "text/plain": [
       "<Figure size 432x288 with 1 Axes>"
      ]
     },
     "metadata": {
      "needs_background": "light"
     },
     "output_type": "display_data"
    }
   ],
   "source": [
    "print(len(frequency_df))\n",
    "#for f in range(len(frequency_df)):\n",
    "#    if (frequency_df['Frequency'].iloc[f]) == 0:\n",
    "#        print(frequency_df.iloc[f])\n",
    "frequency_plot = sns.histplot(data=frequency_df, bins=15)\n",
    "frequency_plot.set_xlabel(\"Combination Occurance\")"
   ]
  },
  {
   "cell_type": "markdown",
   "metadata": {},
   "source": [
    "## f)\n",
    "If your random variables were, in fact, meaningful information on individuals, which\n",
    "group sizes are of most concern from a privacy perspective?"
   ]
  },
  {
   "cell_type": "code",
   "execution_count": null,
   "metadata": {},
   "outputs": [],
   "source": []
  },
  {
   "cell_type": "markdown",
   "metadata": {},
   "source": [
    "## g)\n",
    "Consider the effect of missing data in the dataset you created in Part a). How might\n",
    "this complicate the production of a frequency table of group sizes in Part d)?\n",
    "\n",
    "### Answer\n"
   ]
  },
  {
   "cell_type": "code",
   "execution_count": null,
   "metadata": {},
   "outputs": [],
   "source": []
  },
  {
   "cell_type": "markdown",
   "metadata": {},
   "source": [
    "# Nothing to see here\n",
    "## Sand box\n",
    "\n",
    "https://stackoverflow.com/questions/35268817/unique-combinations-of-values-in-selected-columns-in-pandas-data-frame-and-count"
   ]
  },
  {
   "cell_type": "code",
   "execution_count": 22,
   "metadata": {},
   "outputs": [],
   "source": [
    "#example = {'X': ['a', 'a', 'a', 'b', 'b', 'c', 'c','c'],\n",
    "#          'Y': ['a', 'a', 'a', 'c', 'c', 'a', 'a', 'b'],\n",
    "#          'Z': ['b', 'b', 'b', 'c', 'c', 'c', 'c', 'a']}\n",
    "#ex_df = pd.DataFrame(example)\n",
    "#ex_df = ex_df.astype(\"category\")\n",
    "#ex_df_freq = ex_df.groupby(['X', 'Y', 'Z']).size().reset_index().rename(columns={0:'count'})\n",
    "#ex_df"
   ]
  },
  {
   "cell_type": "code",
   "execution_count": 23,
   "metadata": {},
   "outputs": [
    {
     "data": {
      "text/plain": [
       "\"\\ntest1 = pd.get_dummies(ex_df)\\ntest1_drop = test1.drop_duplicates()\\nlists = []\\ncolumns = ['X', 'Y', 'Z']\\nfor f in range(0, len(test1_drop)):\\n    #print(test1_drop.iloc[f])\\n    counter = 0\\n    for g in range(0, len(test1)):\\n        #print(counter)\\n        if (test1_drop.iloc[f] == test1.iloc[g]).sum() == 9:\\n            counter += 1\\n        print((test1_drop.iloc[f] == test1.iloc[g]).sum())\\n    lists.append(counter)\\nlists\\ntest1\\n\""
      ]
     },
     "execution_count": 23,
     "metadata": {},
     "output_type": "execute_result"
    }
   ],
   "source": [
    "'''\n",
    "test1 = pd.get_dummies(ex_df)\n",
    "test1_drop = test1.drop_duplicates()\n",
    "lists = []\n",
    "columns = ['X', 'Y', 'Z']\n",
    "for f in range(0, len(test1_drop)):\n",
    "    #print(test1_drop.iloc[f])\n",
    "    counter = 0\n",
    "    for g in range(0, len(test1)):\n",
    "        #print(counter)\n",
    "        if (test1_drop.iloc[f] == test1.iloc[g]).sum() == 9:\n",
    "            counter += 1\n",
    "        print((test1_drop.iloc[f] == test1.iloc[g]).sum())\n",
    "    lists.append(counter)\n",
    "lists\n",
    "test1\n",
    "'''"
   ]
  },
  {
   "cell_type": "code",
   "execution_count": 16,
   "metadata": {},
   "outputs": [],
   "source": [
    "# keep, this could be useful\n",
    "c = []\n",
    "for f in range(1, len(lists)):\n",
    "    counter = 0\n",
    "    for g in lists:\n",
    "        #print(g)\n",
    "        if f == g:\n",
    "            #print(f == lists[g])\n",
    "            counter += 1\n",
    "    c.append(counter)\n",
    "#c"
   ]
  },
  {
   "cell_type": "code",
   "execution_count": 17,
   "metadata": {},
   "outputs": [],
   "source": [
    "# Do this (new version)\n",
    "from numpy.random import default_rng\n",
    "rng = default_rng()\n",
    "vals = rng.standard_normal(10)\n",
    "more_vals = rng.standard_normal(10)\n",
    "\n",
    "# instead of this (legacy version)\n",
    "from numpy import random\n",
    "vals = random.standard_normal(10)\n",
    "more_vals = random.standard_normal(10)"
   ]
  },
  {
   "cell_type": "code",
   "execution_count": 18,
   "metadata": {},
   "outputs": [],
   "source": [
    "#from scipy.stats import norm\n",
    "#import matplotlib.pyplot as plt\n",
    "\n",
    "# Generate some data for this demonstration.\n",
    "#data = norm.rvs(10.0, 2.5, size=500)\n",
    "#data\n",
    "# Fit a normal distribution to the data:\n",
    "#mu, std = norm.fit(frequency_df['Frequency'])\n",
    "\n",
    "# Plot the histogram.\n",
    "#plt.hist(frequency_df['Frequency'], bins=15, density=True, alpha=0.6, color='g')\n",
    "\n",
    "# Plot the PDF.\n",
    "#xmin, xmax = plt.xlim()\n",
    "#x = np.linspace(xmin, xmax, 100)\n",
    "#p = norm.pdf(x, mu, std)\n",
    "#plt.plot(x, p, 'k', linewidth=2)\n",
    "#title = \"Fit results: mu = %.2f,  std = %.2f\" % (mu, std)\n",
    "#plt.title(title)\n",
    "\n",
    "#plt.show()"
   ]
  },
  {
   "cell_type": "code",
   "execution_count": 21,
   "metadata": {},
   "outputs": [],
   "source": [
    "#status_catagoricals = {\n",
    "#                       'A': ['A', 'B', 'C'],\n",
    "#                       'nums': ['1', '2', '3'],\n",
    "#                       'Z': ['X', 'Y', 'Z'],\n",
    "#                        'make': ['cooper', 'dog', 'black']\n",
    "#                        }\n",
    "\n",
    "# Iterating through the dictionary to generate a list of lists that can be converted to a Pandas data frame\n",
    "#random_lists = []\n",
    "#column_name = []\n",
    "#for x, f in enumerate(status_catagoricals): # enumberating to obtain the column name for a column name list\n",
    "#    value = catagorical_maker(f, status_catagoricals[f], 20000) # calling the function to generate the list for each key\n",
    "#    random_lists.append(value)\n",
    "#    column_name.append(f)\n",
    "\n",
    "# Generating the data frame using the random list and column names corresponding to the list\n",
    "# The lists required transforming to a NumPy array in order to transpose to an 8 x 50000 data frame\n",
    "#transposed_list = np.array(random_lists).T\n",
    "#df = pd.DataFrame(transposed_list, columns = column_name)"
   ]
  },
  {
   "cell_type": "code",
   "execution_count": null,
   "metadata": {},
   "outputs": [],
   "source": [
    "# Here the frequency of each row is calculated\n",
    "#temp1 = df.groupby(column_name).size() # Calculates the frequency of all column possibilities\n",
    "#temp2 = temp1.reset_index() # Resents the index to make to a single level\n",
    "#frequency_df = temp2.rename(columns={0:'Frequency'}) # Provides the column name 'Frequency'\n",
    "# Could also have been combined to \"frequency_df = df.groupby(column_name).size().reset_index().rename(columns={0:'count'})\"\n",
    "#frequency_df.describe()"
   ]
  },
  {
   "cell_type": "code",
   "execution_count": null,
   "metadata": {},
   "outputs": [],
   "source": [
    "#frequency_df"
   ]
  },
  {
   "cell_type": "code",
   "execution_count": null,
   "metadata": {},
   "outputs": [],
   "source": []
  },
  {
   "cell_type": "code",
   "execution_count": null,
   "metadata": {},
   "outputs": [],
   "source": []
  }
 ],
 "metadata": {
  "kernelspec": {
   "display_name": "Python 3",
   "language": "python",
   "name": "python3"
  },
  "language_info": {
   "codemirror_mode": {
    "name": "ipython",
    "version": 3
   },
   "file_extension": ".py",
   "mimetype": "text/x-python",
   "name": "python",
   "nbconvert_exporter": "python",
   "pygments_lexer": "ipython3",
   "version": "3.8.8"
  }
 },
 "nbformat": 4,
 "nbformat_minor": 4
}
